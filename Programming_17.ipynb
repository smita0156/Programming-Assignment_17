{
 "cells": [
  {
   "cell_type": "code",
   "execution_count": null,
   "id": "b2716177-2189-4377-9851-58925cda0916",
   "metadata": {},
   "outputs": [],
   "source": [
    "Question1. Create a function that takes three arguments a, b, c and returns the sum of the\n",
    "numbers that are evenly divided by c from the range a, b inclusive.\n",
    "Examples\n",
    "evenly_divisible(1, 10, 20) ➞ 0\n",
    "# No number between 1 and 10 can be evenly divided by 20.\n",
    "evenly_divisible(1, 10, 2) ➞ 30\n",
    "# 2 + 4 + 6 + 8 + 10 = 30\n",
    "evenly_divisible(1, 10, 3) ➞ 18\n",
    "# 3 + 6 + 9 = 18"
   ]
  },
  {
   "cell_type": "code",
   "execution_count": 1,
   "id": "616d837e-2f5f-44ec-bd25-79c8a1e15ed3",
   "metadata": {},
   "outputs": [
    {
     "name": "stdin",
     "output_type": "stream",
     "text": [
      "Enter a :  1\n",
      "Enter b :  10\n",
      "Enter c :  2\n"
     ]
    },
    {
     "name": "stdout",
     "output_type": "stream",
     "text": [
      "30\n"
     ]
    }
   ],
   "source": [
    "\n",
    "def abc(a, b, c):     \n",
    "    sum = 0\n",
    "    for i in range(a, b + 1): \n",
    "        if (i % c == 0):\n",
    "            sum += i \n",
    "    return sum\n",
    "a = int(input('Enter a : '))\n",
    "b = int(input('Enter b : '))\n",
    "c = int(input('Enter c : '))\n",
    "print(abc(a, b, c))\n",
    "     "
   ]
  },
  {
   "cell_type": "code",
   "execution_count": null,
   "id": "24e531f7-adc2-400f-96c1-c485c6baf627",
   "metadata": {},
   "outputs": [],
   "source": [
    "Question2. Create a function that returns True if a given inequality expression is correct and\n",
    "False otherwise.\n",
    "Examples\n",
    "correct_signs(&quot;3 &lt; 7 &lt; 11&quot;) ➞ True\n",
    "correct_signs(&quot;13 &gt; 44 &gt; 33 &gt; 1&quot;) ➞ False\n",
    "correct_signs(&quot;1 &lt; 2 &lt; 6 &lt; 9 &gt; 3&quot;) ➞ True"
   ]
  },
  {
   "cell_type": "code",
   "execution_count": 2,
   "id": "150b1baf-c66a-445a-9312-9933df078a56",
   "metadata": {},
   "outputs": [
    {
     "name": "stdout",
     "output_type": "stream",
     "text": [
      "False\n",
      "False\n",
      "True\n"
     ]
    }
   ],
   "source": [
    "\n",
    "def correct_signs ( txt ) : \n",
    "    return eval ( txt )\n",
    "print(correct_signs(\"3 > 7 < 11\"))\n",
    "print(correct_signs(\"13 > 44 > 33 > 1\"))\n",
    "print(correct_signs(\"1 < 2 < 6 < 9 > 3\"))\n",
    "     "
   ]
  },
  {
   "cell_type": "code",
   "execution_count": null,
   "id": "bee50bf4-6f56-44eb-998d-761a1c6d28be",
   "metadata": {},
   "outputs": [],
   "source": [
    "Question3. Create a function that replaces all the vowels in a string with a specified character.\n",
    "Examples\n",
    "replace_vowels(&quot;the aardvark&quot;, &quot;#&quot;) ➞ &quot;th# ##rdv#rk&quot;\n",
    "replace_vowels(&quot;minnie mouse&quot;, &quot;?&quot;) ➞ &quot;m?nn?? m??s?&quot;\n",
    "replace_vowels(&quot;shakespeare&quot;, &quot;*&quot;) ➞ &quot;sh*k*sp**r*&quot;"
   ]
  },
  {
   "cell_type": "code",
   "execution_count": 3,
   "id": "f52af319-dade-4b9e-8d11-29ef46b79346",
   "metadata": {},
   "outputs": [
    {
     "name": "stdin",
     "output_type": "stream",
     "text": [
      "enter a string :   the aardvark\n",
      "enter a vowel replacing string :   #\n"
     ]
    },
    {
     "name": "stdout",
     "output_type": "stream",
     "text": [
      "\n",
      "Given Sting:  the aardvark\n",
      "Given Specified Character:  #\n",
      "Afer replacing vowels with the specified character:  th #  # #rdv #rk\n"
     ]
    }
   ],
   "source": [
    "\n",
    "def replace_vowels(str, s):\n",
    "    vowels = 'AEIOUaeiou'\n",
    "    for ele in vowels:  \n",
    "        str = str.replace(ele, s)  \n",
    "    return str\n",
    "  \n",
    "input_str = input(\"enter a string : \")\n",
    "s = input(\"enter a vowel replacing string : \")\n",
    "print(\"\\nGiven Sting:\", input_str)\n",
    "print(\"Given Specified Character:\", s)\n",
    "print(\"Afer replacing vowels with the specified character:\",replace_vowels(input_str, s))\n",
    "     "
   ]
  },
  {
   "cell_type": "code",
   "execution_count": null,
   "id": "c3b50f54-f4f5-4518-a058-517aa23fab25",
   "metadata": {},
   "outputs": [],
   "source": [
    "Question4. Write a function that calculates the factorial of a number recursively.\n",
    "Examples\n",
    "factorial(5) ➞ 120\n",
    "factorial(3) ➞ 6\n",
    "factorial(1) ➞ 1\n",
    "factorial(0) ➞ 1"
   ]
  },
  {
   "cell_type": "code",
   "execution_count": 4,
   "id": "172d24e8-7897-4adb-9292-0edca1f956bc",
   "metadata": {},
   "outputs": [
    {
     "name": "stdin",
     "output_type": "stream",
     "text": [
      "enter a number : 4\n"
     ]
    },
    {
     "name": "stdout",
     "output_type": "stream",
     "text": [
      "Factorial of 4 is 24\n"
     ]
    }
   ],
   "source": [
    "\n",
    "def factorial(n):     \n",
    "    if n == 0:\n",
    "        return 1    \n",
    "    return n * factorial(n-1)\n",
    "\n",
    "num = int(input('enter a number :'))\n",
    "print(\"Factorial of\", num, \"is\", factorial(num))\n",
    "     "
   ]
  },
  {
   "cell_type": "code",
   "execution_count": null,
   "id": "6fe9c385-27b3-467d-b051-4c019466e10d",
   "metadata": {},
   "outputs": [],
   "source": [
    "Question 5\n",
    "Hamming distance is the number of characters that differ between two strings.\n",
    "To illustrate:\n",
    "String1: &quot;abcbba&quot;\n",
    "String2: &quot;abcbda&quot;\n",
    "Hamming Distance: 1 - &quot;b&quot; vs. &quot;d&quot; is the only difference.\n",
    "Create a function that computes the hamming distance between two strings.\n",
    "Examples\n",
    "hamming_distance(&quot;abcde&quot;, &quot;bcdef&quot;) ➞ 5\n",
    "hamming_distance(&quot;abcde&quot;, &quot;abcde&quot;) ➞ 0\n",
    "hamming_distance(&quot;strong&quot;, &quot;strung&quot;) ➞ 1"
   ]
  },
  {
   "cell_type": "code",
   "execution_count": 5,
   "id": "cb69821f-d8fe-4bc0-9264-c1ed861a04be",
   "metadata": {},
   "outputs": [
    {
     "name": "stdout",
     "output_type": "stream",
     "text": [
      "5\n"
     ]
    }
   ],
   "source": [
    "\n",
    "def hamming_distance(str1, str2):\n",
    "    i = 0\n",
    "    count = 0\n",
    " \n",
    "    while(i < len(str1)):\n",
    "        if(str1[i] != str2[i]):\n",
    "            count += 1\n",
    "        i += 1\n",
    "    return count\n",
    " \n",
    "\n",
    "str1 = \"abcde\"\n",
    "str2 = \"bcdef\"\n",
    " \n",
    "print(hamming_distance(str1, str2))\n",
    "     "
   ]
  },
  {
   "cell_type": "code",
   "execution_count": 6,
   "id": "1a06897f-0397-4983-aacc-f04cf8894848",
   "metadata": {},
   "outputs": [
    {
     "name": "stdout",
     "output_type": "stream",
     "text": [
      "1\n"
     ]
    }
   ],
   "source": [
    "\n",
    "print(hamming_distance('strong', 'strung'))\n",
    "\n",
    "     "
   ]
  }
 ],
 "metadata": {
  "kernelspec": {
   "display_name": "Python 3 (ipykernel)",
   "language": "python",
   "name": "python3"
  },
  "language_info": {
   "codemirror_mode": {
    "name": "ipython",
    "version": 3
   },
   "file_extension": ".py",
   "mimetype": "text/x-python",
   "name": "python",
   "nbconvert_exporter": "python",
   "pygments_lexer": "ipython3",
   "version": "3.10.6"
  }
 },
 "nbformat": 4,
 "nbformat_minor": 5
}
